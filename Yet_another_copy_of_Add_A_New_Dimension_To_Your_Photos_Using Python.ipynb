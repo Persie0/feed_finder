{
  "nbformat": 4,
  "nbformat_minor": 0,
  "metadata": {
    "colab": {
      "private_outputs": true,
      "provenance": [],
      "include_colab_link": true
    },
    "kernelspec": {
      "name": "python3",
      "display_name": "Python 3"
    },
    "accelerator": "GPU"
  },
  "cells": [
    {
      "cell_type": "markdown",
      "metadata": {
        "id": "view-in-github",
        "colab_type": "text"
      },
      "source": [
        "<a href=\"https://colab.research.google.com/github/Persie0/feed_finder/blob/master/Yet_another_copy_of_Add_A_New_Dimension_To_Your_Photos_Using%C2%A0Python.ipynb\" target=\"_parent\"><img src=\"https://colab.research.google.com/assets/colab-badge.svg\" alt=\"Open In Colab\"/></a>"
      ]
    },
    {
      "cell_type": "markdown",
      "metadata": {
        "id": "A8Nop9pf84kR"
      },
      "source": [
        "# Automatic 3D Ken Burns Effect from a Single Image\n",
        "\n",
        "A PyTorch based implementation of the techniques presented in the following paper: ['3D Ken Burns Effect from a Single Image'](https://arxiv.org/abs/1909.05483).\n",
        "\n",
        "## Resources and Credits\n",
        "- [Paper](https://arxiv.org/abs/1909.05483)\n",
        "- [Repo](https://github.com/sniklaus/3d-ken-burns)\n",
        "- [Video](https://www.youtube.com/watch?v=WrajxHHfRBA)"
      ]
    },
    {
      "cell_type": "code",
      "metadata": {
        "id": "i6Aha-7YPALc"
      },
      "source": [
        "#@title Upload Photos\n",
        "from google.colab import files\n",
        "!mkdir cool\n",
        "\n",
        "uploads = files.upload()\n",
        "for filename in uploads.keys():\n",
        "  !mv ./$filename ./cool/$filename"
      ],
      "execution_count": null,
      "outputs": []
    },
    {
      "cell_type": "code",
      "metadata": {
        "id": "ySAPF18KOMOx"
      },
      "source": [
        "#@title Setup Environment and Install Requirements\n",
        "# Download the repo from Github\n",
        "!git clone https://github.com/sniklaus/3d-ken-burns.git\n",
        "\n",
        "# Move into the downloaded repository\n",
        "%cd 3d-ken-burns\n",
        "\n",
        "# Make a directory for the videos\n",
        "video_dir = \"./cool/\"\n",
        "\n",
        "# Install dependencies\n",
        "!pip install moviepy gevent"
      ],
      "execution_count": null,
      "outputs": []
    },
    {
      "cell_type": "code",
      "metadata": {
        "id": "rnePDQ6XO1XO"
      },
      "source": [
        "#@title Execute 3D Ken Burns Effect on All Images\n",
        "!for image in ./images/*; do python autozoom.py --in $image --out ./videos/$(basename $image | cut -f1 -d '.').mp4; done"
      ],
      "execution_count": null,
      "outputs": []
    },
    {
      "cell_type": "code",
      "metadata": {
        "id": "0_5_xhu9UQe4"
      },
      "source": [
        "#@title Download All Videos\n",
        "import os\n",
        "for file in os.listdir(video_dir):\n",
        "    files.download(f\"{video_dir}{file}\")"
      ],
      "execution_count": null,
      "outputs": []
    }
  ]
}